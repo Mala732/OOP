{
  "nbformat": 4,
  "nbformat_minor": 0,
  "metadata": {
    "colab": {
      "provenance": [],
      "authorship_tag": "ABX9TyNA+v2CKdI1wEHajz7wfnV3"
    },
    "kernelspec": {
      "name": "python3",
      "display_name": "Python 3"
    },
    "language_info": {
      "name": "python"
    }
  },
  "cells": [
    {
      "cell_type": "markdown",
      "source": [
        "# STACKS\n",
        "A stack is an ordered list in which insertion and deletion are done at one end\n",
        "The last element inserted is the first element to be deleted.\n",
        "\n",
        "LIFO - Last in first out\n",
        "\n",
        "Inserting an element is called push()\n",
        "Removing an element is called pop()\n",
        "\n",
        "trying to pop an element in an empty stack is called underflow\n",
        "\n",
        "trying to push an element into a full stack is called overflow\n"
      ],
      "metadata": {
        "id": "uTNSwWL7xe92"
      }
    },
    {
      "cell_type": "markdown",
      "source": [
        "## Applications of stacks:\n",
        "* Balacing of symbols\n",
        "* Infix-to- postfix conversion\n",
        "* Evaluation of postfix expression\n",
        "* Implementation of funtion calls\n",
        "* Finding spans\n",
        "* Page visited history in a web browser\n",
        "* Undo sequence in text editor\n",
        "* Matching tags in HTML and XML\n"
      ],
      "metadata": {
        "id": "O9UcNmsmyoKS"
      }
    },
    {
      "cell_type": "code",
      "execution_count": null,
      "metadata": {
        "colab": {
          "base_uri": "https://localhost:8080/"
        },
        "id": "dvnOM7YGxawf",
        "outputId": "92535313-839e-4adf-bcda-6842e4bfb61e"
      },
      "outputs": [
        {
          "output_type": "stream",
          "name": "stdout",
          "text": [
            "Stack after push:  [1]\n",
            "Stack after push:  [1, 2]\n",
            "Stack after push:  [1, 2, 3]\n",
            "Stack after push:  [1, 2, 3, 4]\n",
            "Stack after push:  [1, 2, 3, 4, 5]\n",
            "Stack Overflow!\n",
            "Stack after push:  [1, 2, 3, 4, 5]\n",
            "5\n",
            "5\n",
            "4\n",
            "4\n",
            "3\n"
          ]
        }
      ],
      "source": [
        "#ARRAY IMPLEMENTATION OF STACK\n",
        "\n",
        "class Stack:\n",
        "    def __init__(self, limit = 10):\n",
        "        self.stk = []\n",
        "        self.limit = limit\n",
        "\n",
        "    def isEmplty(self):\n",
        "        return len(self.stk) <= 0\n",
        "\n",
        "    def push(self, item):\n",
        "        if len(self.stk) >= self.limit:\n",
        "            print(\"Stack Overflow!\")\n",
        "        else:\n",
        "            self.stk.append(item)\n",
        "        print(\"Stack after push: \", self.stk)\n",
        "\n",
        "    def pop(self):\n",
        "        if len(self.stk) <= 0:\n",
        "            print(\"Stack Underflow!\")\n",
        "        else:\n",
        "            return self.stk.pop()\n",
        "\n",
        "    def peek(self):\n",
        "        if len(self.stk) <= 0:\n",
        "            print(\"Stack Underflow!\")\n",
        "            return 0\n",
        "        else:\n",
        "            return self.stk[-1]\n",
        "\n",
        "    def size(self):\n",
        "        return len(self.stk)\n",
        "\n",
        "our_stack = Stack(5)\n",
        "our_stack.push(1)\n",
        "our_stack.push(2)\n",
        "our_stack.push(3)\n",
        "our_stack.push(4)\n",
        "our_stack.push(5)\n",
        "our_stack.push(6)\n",
        "print(our_stack.peek())\n",
        "print(our_stack.pop())\n",
        "print(our_stack.peek())\n",
        "print(our_stack.pop())\n",
        "print(our_stack.size())"
      ]
    },
    {
      "cell_type": "markdown",
      "source": [
        "the above implementation of stack has O(n) space complexity\n",
        "All other operations have O(1) time complexity"
      ],
      "metadata": {
        "id": "hDELqONI06tK"
      }
    },
    {
      "cell_type": "code",
      "source": [
        "#DYNMAIC ARRAY IMPLEMENTATION\n",
        "class Stack:\n",
        "    def __init__(self,limit = 10):\n",
        "        self.stk = limit*[None]\n",
        "        self.limit = limit\n",
        "\n",
        "    def isEmplty(self):\n",
        "        return len(self.stk) <= 0\n",
        "\n",
        "    def push(self, item):\n",
        "        if len(self.stk) >= self.limit:\n",
        "            self.resize()\n",
        "        self.stk.append(item)\n",
        "        print(\"Stack after push: \", self.stk)\n",
        "\n",
        "    def pop(self):\n",
        "        if len(self.stk) <= 0:\n",
        "            print(\"Stack Underflow!\")\n",
        "            return 0\n",
        "        else:\n",
        "            return self.stk.pop()\n",
        "\n",
        "    def peek(self):\n",
        "        if len(self.stk) <= 0:\n",
        "            print(\"Stack Underflow!\")\n",
        "            return 0\n",
        "        else:\n",
        "            return self.stk[-1]\n",
        "\n",
        "    def size(self):\n",
        "        return len(self.stk)\n",
        "\n",
        "    def resize(self):\n",
        "        new_stk = list(self.stk)\n",
        "        self.limit = 2*self.limit\n",
        "        self.stk = new_stk\n",
        "our_stack = Stack(5)\n",
        "our_stack.push(1)\n",
        "our_stack.push(2)\n",
        "our_stack.push(3)\n",
        "our_stack.push(4)\n",
        "our_stack.push(5)\n",
        "our_stack.push(6)\n",
        "our_stack.push(1)\n",
        "our_stack.push(2)\n",
        "our_stack.push(3)\n",
        "our_stack.push(4)\n",
        "our_stack.push(5)\n",
        "our_stack.push(6)\n",
        "print(our_stack.peek())\n",
        "print(our_stack.pop())\n",
        "print(our_stack.peek())\n",
        "print(our_stack.pop())\n",
        "print(our_stack.size())"
      ],
      "metadata": {
        "colab": {
          "base_uri": "https://localhost:8080/"
        },
        "id": "TXv0m95i1dN9",
        "outputId": "a423089f-b95f-416b-97c0-c82e1a3ae02e"
      },
      "execution_count": null,
      "outputs": [
        {
          "output_type": "stream",
          "name": "stdout",
          "text": [
            "Stack after push:  [None, None, None, None, None, 1]\n",
            "Stack after push:  [None, None, None, None, None, 1, 2]\n",
            "Stack after push:  [None, None, None, None, None, 1, 2, 3]\n",
            "Stack after push:  [None, None, None, None, None, 1, 2, 3, 4]\n",
            "Stack after push:  [None, None, None, None, None, 1, 2, 3, 4, 5]\n",
            "Stack after push:  [None, None, None, None, None, 1, 2, 3, 4, 5, 6]\n",
            "Stack after push:  [None, None, None, None, None, 1, 2, 3, 4, 5, 6, 1]\n",
            "Stack after push:  [None, None, None, None, None, 1, 2, 3, 4, 5, 6, 1, 2]\n",
            "Stack after push:  [None, None, None, None, None, 1, 2, 3, 4, 5, 6, 1, 2, 3]\n",
            "Stack after push:  [None, None, None, None, None, 1, 2, 3, 4, 5, 6, 1, 2, 3, 4]\n",
            "Stack after push:  [None, None, None, None, None, 1, 2, 3, 4, 5, 6, 1, 2, 3, 4, 5]\n",
            "Stack after push:  [None, None, None, None, None, 1, 2, 3, 4, 5, 6, 1, 2, 3, 4, 5, 6]\n",
            "6\n",
            "6\n",
            "5\n",
            "5\n",
            "15\n"
          ]
        }
      ]
    },
    {
      "cell_type": "code",
      "source": [
        "#LINKEDLIST implementation\n",
        "\n",
        "class Node:\n",
        "    def __init__(self):\n",
        "        self.data = None\n",
        "        self.next = None\n",
        "\n",
        "    def setData(self, data):\n",
        "        self.data = data\n",
        "\n",
        "    def getData(self):\n",
        "        return self.data\n",
        "\n",
        "    def setNext(self, next):\n",
        "        self.next = next\n",
        "\n",
        "    def getNext(self):\n",
        "        return self.next\n",
        "\n",
        "    def hasnext(self):\n",
        "        return self.next != None\n",
        "\n",
        "class Stack(object):\n",
        "    def __init__(self,data = None):\n",
        "        self.head = None\n",
        "        if data:\n",
        "            for data in data:\n",
        "                self.push(data)\n",
        "    def push(self, data):\n",
        "        temp = Node()\n",
        "        temp.setData(data)\n",
        "        temp.setNext(self.head)\n",
        "        self.head = temp\n",
        "\n",
        "    def pop(self):\n",
        "        if self.head is None:\n",
        "            raise IndexError\n",
        "        temp = self.head.getData()\n",
        "        self.head = self.head.getNext()\n",
        "        return temp\n",
        "\n",
        "    def peek(self):\n",
        "        if self.head is None:\n",
        "            raise IndexError\n",
        "        return self.head.getData()\n",
        "\n",
        "our_list = [\"first\",\"second\",\"third\",\"fourth\"]\n",
        "our_stack = Stack(our_list)\n",
        "print(our_stack.pop())\n",
        "print(our_stack.pop())\n",
        "print(our_stack.pop())\n",
        "print(our_stack.pop())"
      ],
      "metadata": {
        "colab": {
          "base_uri": "https://localhost:8080/"
        },
        "id": "_chO2ijZ3CLY",
        "outputId": "cf12bb91-3f20-47cb-b2a8-84c33fd8e7f9"
      },
      "execution_count": null,
      "outputs": [
        {
          "output_type": "stream",
          "name": "stdout",
          "text": [
            "fourth\n",
            "third\n",
            "second\n",
            "first\n"
          ]
        }
      ]
    },
    {
      "cell_type": "markdown",
      "source": [
        "Balancing symbol problems\n",
        "\n"
      ],
      "metadata": {
        "id": "nNwJG1rl48jA"
      }
    },
    {
      "cell_type": "code",
      "source": [
        "def checkSymbolBalance(input):\n",
        "    symbolstack = []\n",
        "    for symbol in input:\n",
        "        if symbol in  \"([{\":\n",
        "            symbolstack.append(symbol)\n",
        "        elif len(symbolstack) == 0:\n",
        "            return False\n",
        "        elif symbol == \")\":\n",
        "            if symbolstack.pop() != \"(\":\n",
        "                return False\n",
        "        elif symbol == \"]\":\n",
        "            if symbolstack.pop() != \"[\":\n",
        "                return False\n",
        "        elif symbol == \"}\":\n",
        "            if symbolstack.pop() != \"{\":\n",
        "                return False\n",
        "\n",
        "    return True if len(symbolstack) == 0 else False\n",
        "\n",
        "print(checkSymbolBalance(\"{([])}\"))\n",
        "print(checkSymbolBalance(\"{([])}(\"))\n",
        "print(checkSymbolBalance(\"{([])}]\"))\n",
        "print(checkSymbolBalance(\"(\"))\n",
        "print(checkSymbolBalance(\"()\"))\n",
        "print(checkSymbolBalance(\"(()\"))\n",
        "print(checkSymbolBalance(\"(){}({}[])((()())\"))"
      ],
      "metadata": {
        "colab": {
          "base_uri": "https://localhost:8080/"
        },
        "id": "4KY7b85i518N",
        "outputId": "da5c4d2d-dd54-4c5b-84d9-8f00675293a0"
      },
      "execution_count": null,
      "outputs": [
        {
          "output_type": "stream",
          "name": "stdout",
          "text": [
            "True\n",
            "False\n",
            "False\n",
            "False\n",
            "True\n",
            "False\n",
            "False\n"
          ]
        }
      ]
    },
    {
      "cell_type": "code",
      "source": [
        "#Evaluating a postfix expresstion\n",
        "\n",
        "def EvalPostfix(input):\n",
        "    stack = []\n",
        "    for symbol in input:\n",
        "        if symbol.isdigit():\n",
        "            stack.append(int(symbol))\n",
        "        elif symbol == \"+\":\n",
        "            stack.append(stack.pop() + stack.pop())\n",
        "        elif symbol == \"-\":\n",
        "            a = stack.pop()\n",
        "            b = stack.pop()\n",
        "            stack.append(b-a)\n",
        "        elif symbol == \"*\":\n",
        "            stack.append(stack.pop() * stack.pop())\n",
        "        elif symbol == \"/\":\n",
        "            a = stack.pop()\n",
        "            b = stack.pop()\n",
        "            stack.append(int(b/a))\n",
        "    return stack.pop()\n",
        "\n",
        "print(EvalPostfix(\"123*+5-\"))\n"
      ],
      "metadata": {
        "colab": {
          "base_uri": "https://localhost:8080/"
        },
        "id": "Q7pSWJCl-oAK",
        "outputId": "50ff43fa-ff32-4d53-e2eb-a1fa1eb84694"
      },
      "execution_count": null,
      "outputs": [
        {
          "output_type": "stream",
          "name": "stdout",
          "text": [
            "2\n"
          ]
        }
      ]
    },
    {
      "cell_type": "code",
      "source": [
        "#reverse a stack using only stack operations\n",
        "\n",
        "def insertAtBottom(stack, item):\n",
        "    if len(stack) == 0:\n",
        "        stack.append(item)\n",
        "    else:\n",
        "        temp = stack.pop()\n",
        "        insertAtBottom(stack, item)\n",
        "        stack.append(temp)\n",
        "\n",
        "def reverse(stack):\n",
        "    if len(stack)!= 0:\n",
        "        temp = stack.pop()\n",
        "        reverse(stack)\n",
        "        insertAtBottom(stack, temp)\n",
        "\n",
        "stack = [1,2,3,4,5]\n",
        "reverse(stack)\n",
        "print(stack)"
      ],
      "metadata": {
        "colab": {
          "base_uri": "https://localhost:8080/"
        },
        "id": "_3dPx9wJ_h_I",
        "outputId": "72f0eb79-750f-407c-9c88-b62ac2ad91b6"
      },
      "execution_count": null,
      "outputs": [
        {
          "output_type": "stream",
          "name": "stdout",
          "text": [
            "[5, 4, 3, 2, 1]\n",
            "None\n"
          ]
        }
      ]
    },
    {
      "cell_type": "markdown",
      "source": [
        "Design a stack that supports push, pop, top, and retrieving the minimum element in constant time.\n",
        "\n",
        "Implement the MinStack class:\n",
        "\n",
        "MinStack() initializes the stack object.\n",
        "void push(int val) pushes the element val onto the stack.\n",
        "void pop() removes the element on the top of the stack.\n",
        "int top() gets the top element of the stack.\n",
        "int getMin() retrieves the minimum element in the stack.\n",
        "You must implement a solution with O(1) time complexity for each function.\n",
        "\n",
        "\n",
        "\n",
        "Example 1:\n",
        "\n",
        "Input\n",
        "[\"MinStack\",\"push\",\"push\",\"push\",\"getMin\",\"pop\",\"top\",\"getMin\"]\n",
        "[[],[-2],[0],[-3],[],[],[],[]]\n",
        "\n",
        "Output\n",
        "[null,null,null,null,-3,null,0,-2]\n",
        "\n",
        "Explanation\n",
        "MinStack minStack = new MinStack();\n",
        "minStack.push(-2);\n",
        "minStack.push(0);\n",
        "minStack.push(-3);\n",
        "minStack.getMin(); // return -3\n",
        "minStack.pop();\n",
        "minStack.top();    // return 0\n",
        "minStack.getMin(); // return -2\n",
        "\n",
        "\n",
        "Constraints:\n",
        "\n",
        "-231 <= val <= 231 - 1\n",
        "Methods pop, top and getMin operations will always be called on non-empty stacks.\n",
        "At most 3 * 104 calls will be made to push, pop, top, and getMin."
      ],
      "metadata": {
        "id": "O5oIpx4rbloI"
      }
    },
    {
      "cell_type": "code",
      "source": [
        "class MinStack:\n",
        "\n",
        "    def __init__(self):\n",
        "        self.stack = []\n",
        "        self.minstack = []\n",
        "\n",
        "    def push(self, val: int) -> None:\n",
        "        self.stack.append(val)\n",
        "        val = min(val, self.minstack[-1] if self.minstack else val)\n",
        "        self.minstack.append(val)\n",
        "\n",
        "    def pop(self) -> None:\n",
        "        self.stack.pop()\n",
        "        self.minstack.pop()\n",
        "\n",
        "    def top(self) -> int:\n",
        "        return self.stack[-1]\n",
        "\n",
        "    def getMin(self) -> int:\n",
        "        return self.minstack[-1]\n",
        "\n"
      ],
      "metadata": {
        "id": "QalhvGvobl89"
      },
      "execution_count": null,
      "outputs": []
    }
  ]
}