{
 "cells": [
  {
   "cell_type": "markdown",
   "id": "bd6ea204-2f27-4945-97e0-4c9a863d47d9",
   "metadata": {},
   "source": [
    "#Creating a Node\n",
    "\n",
    "                 a\n",
    "                / \\\n",
    "               b   c\n",
    "              / \\   \\\n",
    "             d   e   f"
   ]
  },
  {
   "cell_type": "code",
   "execution_count": 7,
   "id": "d8648b15-34dc-41bf-b46f-2f72b3c00eb9",
   "metadata": {},
   "outputs": [],
   "source": [
    "\n",
    "class Node:\n",
    "    def __init__(self,val):\n",
    "        self.val = val\n",
    "        self.left = None\n",
    "        self.right = None\n",
    "        \n",
    "a = Node('a')\n",
    "b = Node('b')\n",
    "c = Node('c')\n",
    "d = Node('d')\n",
    "e = Node('e')\n",
    "f = Node('f')\n",
    "\n",
    "a.left = b\n",
    "a.right = c\n",
    "b.left = d\n",
    "b.right = e\n",
    "c.right = f\n"
   ]
  },
  {
   "cell_type": "markdown",
   "id": "ae317c49-325d-43d3-9376-f7d50999b29e",
   "metadata": {},
   "source": [
    "Depth First traversal\n",
    "\n",
    "Nodes that you access are added to the stack\n",
    "From the previous example , First a goes to the stack\n",
    "then you pick a from the stack and check if a has children, if so , you pop a out and add the children to the stack\n",
    "stack = [c,b]\n",
    "you take b out, and check if b has children, if so take b out and add the children to the stack\n",
    "\n",
    "stack = [c,e,d]\n",
    "b has two children, pop b out and add the children to the stack\n",
    "\n",
    "e has no children\n",
    "pop e\n",
    "d has no children \n",
    "pop d\n",
    "\n",
    "stack = [c]\n",
    "c has one child, take c out and add f\n",
    "\n",
    "stack = [f]\n",
    "f has no child, pop f\n",
    "\n",
    "\n",
    "output: a, b, d, e, c, f\n",
    "\n",
    "\n",
    "Time Complexity: O(n)\n",
    "Space complexity: O(n)"
   ]
  },
  {
   "cell_type": "code",
   "execution_count": 16,
   "id": "9e94d4d7-7be1-47b8-8f8e-714a9d1a844d",
   "metadata": {},
   "outputs": [
    {
     "data": {
      "text/plain": [
       "[]"
      ]
     },
     "execution_count": 16,
     "metadata": {},
     "output_type": "execute_result"
    }
   ],
   "source": [
    "def depthFirstValues(root):\n",
    "    if root == None:\n",
    "        return []\n",
    "    res = []\n",
    "    stack = [root]\n",
    "    while len(stack) > 0:\n",
    "        curr = stack.pop()\n",
    "        res.append(curr.val)\n",
    "    \n",
    "        if curr.right: stack.append(curr.right)\n",
    "        if curr.left: stack.append(curr.left)\n",
    "        \n",
    "    return res\n",
    "    \n",
    "depthFirstValues(a)"
   ]
  },
  {
   "cell_type": "code",
   "execution_count": 52,
   "id": "25a28177-a2ce-48f1-b29f-a1506d72abb9",
   "metadata": {},
   "outputs": [
    {
     "name": "stdout",
     "output_type": "stream",
     "text": [
      "[] /// []\n",
      "[] /// []\n",
      "['d'] /// ['e']\n",
      "[] /// []\n",
      "[] /// ['f']\n",
      "['b', 'd', 'e'] /// ['c', 'f']\n"
     ]
    },
    {
     "data": {
      "text/plain": [
       "['a', 'b', 'd', 'e', 'c', 'f']"
      ]
     },
     "execution_count": 52,
     "metadata": {},
     "output_type": "execute_result"
    }
   ],
   "source": [
    "def depthFirstValues(root):\n",
    "    if root == None: \n",
    "        return []\n",
    "\n",
    "    leftValues = depthFirstValues(root.left)\n",
    "    rightValues = depthFirstValues(root.right)\n",
    "    print(leftValues,\"///\",rightValues)\n",
    "\n",
    "    return [root.val , *leftValues, *rightValues]\n",
    "\n",
    "depthFirstValues(a)   "
   ]
  },
  {
   "cell_type": "markdown",
   "id": "736aaf16-1b4b-4625-b9b6-c3acd9f31e8d",
   "metadata": {},
   "source": [
    "Breadth first traversal\n",
    "\n",
    "level by level\n",
    "uses queues: FIRST IN FIRST OUT\n",
    "\n",
    "a is added to the queue\n",
    "\n",
    "a has two children, pop a , add the childrento the queue\n",
    "q = [c, b], res = [a]\n",
    "b has two children\n",
    "pop b, add the children to the queue\n",
    "q = [e,d,c], res = [a,b]\n",
    "c has one child, pop c,add f to the queue\n",
    "q = [f,e,d], res = [a,b,c]\n",
    "\n",
    "d has no child, pop d\n",
    "q = [f,e], res = [a,b,c, d]\n",
    "\n",
    "e has no child, pop e\n",
    "q = [f], res = [a,b,c,d,e]\n",
    "\n",
    "f has no children, pop f\n",
    "q = [], res = [a,b,c,d,e,f]\n",
    "\n",
    "stop!!\n",
    "\n",
    "\n",
    "output: a,b,c,d,e,f\n",
    "\n",
    "\n",
    "Time complexity: O(n) , assuming adding something in constant time\n",
    "Space Complexity: O(n)\n",
    "\n",
    "!! Difficult to implement recursively, since recursion is implemented using stacks and BFS requires the use of queues"
   ]
  },
  {
   "cell_type": "code",
   "execution_count": 37,
   "id": "3a17351f-05f3-4d0a-ae31-bfc358fadfab",
   "metadata": {},
   "outputs": [
    {
     "data": {
      "text/plain": [
       "['a', 'b', 'c', 'd', 'e', 'f']"
      ]
     },
     "execution_count": 37,
     "metadata": {},
     "output_type": "execute_result"
    }
   ],
   "source": [
    "from collections import deque\n",
    "\n",
    "def breadthFirstValues(root):\n",
    "    if root == None:\n",
    "        return []\n",
    "    res = []\n",
    "    queue = deque([root])\n",
    "    while len(queue) > 0:\n",
    "        curr = queue.pop()\n",
    "        res.append(curr.val)\n",
    "\n",
    "        if curr.left: queue.appendleft(curr.left)\n",
    "        if curr.right: queue.appendleft(curr.right)\n",
    "        \n",
    "\n",
    "    return res\n",
    "\n",
    "breadthFirstValues(a)\n",
    "        "
   ]
  },
  {
   "cell_type": "code",
   "execution_count": 39,
   "id": "d19257b5-094b-4ea3-95cf-b2330732f037",
   "metadata": {},
   "outputs": [
    {
     "data": {
      "text/plain": [
       "['a', 'b', 'c', 'd', 'e', 'f']"
      ]
     },
     "execution_count": 39,
     "metadata": {},
     "output_type": "execute_result"
    }
   ],
   "source": [
    "def breadthFirstValues(root):\n",
    "    if root == None:\n",
    "        return []\n",
    "    res = []\n",
    "    queue = [root]\n",
    "    while len(queue) > 0:\n",
    "        curr = queue.pop()\n",
    "        res.append(curr.val)\n",
    "        if curr.left: queue.insert(0,curr.left)\n",
    "        if curr.right: queue.insert(0,curr.right)\n",
    "\n",
    "    return res\n",
    "\n",
    "breadthFirstValues(a)"
   ]
  },
  {
   "cell_type": "markdown",
   "id": "ff2de27c-86ad-4d91-ba43-5808c04204c0",
   "metadata": {},
   "source": [
    "Given the root node and target element, return if the target is  present in tree"
   ]
  },
  {
   "cell_type": "code",
   "execution_count": 47,
   "id": "6725daa0-1034-4554-8631-89ef8731b6a6",
   "metadata": {},
   "outputs": [
    {
     "data": {
      "text/plain": [
       "True"
      ]
     },
     "execution_count": 47,
     "metadata": {},
     "output_type": "execute_result"
    }
   ],
   "source": [
    "def treeInclude(root,target):\n",
    "    if root == None:\n",
    "        return False\n",
    "    queue = [root]\n",
    "    while len(queue) > 0:\n",
    "        curr = queue.pop()\n",
    "        if curr.val == target: return True\n",
    "        if curr.left: queue.insert(0,curr.left)\n",
    "        if curr.right: queue.insert(0,curr.right)\n",
    "    else: return False\n",
    "    return res\n",
    "\n",
    "treeInclude(a,'e')"
   ]
  },
  {
   "cell_type": "code",
   "execution_count": 51,
   "id": "93853ee7-f5ce-4462-a2d0-b3a663f9df78",
   "metadata": {},
   "outputs": [
    {
     "data": {
      "text/plain": [
       "True"
      ]
     },
     "execution_count": 51,
     "metadata": {},
     "output_type": "execute_result"
    }
   ],
   "source": [
    "def treeInclude(root,target):\n",
    "    if root == None:\n",
    "        return False\n",
    "    if root.val == target: return True\n",
    "    return treeInclude(root.left,target) or treeInclude(root.right,target)\n",
    "\n",
    "treeInclude(a,'e')"
   ]
  },
  {
   "cell_type": "markdown",
   "id": "ad783937-624e-4fcf-a36e-d17bfbd44eaa",
   "metadata": {},
   "source": [
    "Tree Sum Problem\n",
    "\n",
    "Compute the total sum of values in the node"
   ]
  },
  {
   "cell_type": "code",
   "execution_count": 59,
   "id": "2e0ca0d7-d70c-4d74-8df6-6aec2d0bf0d1",
   "metadata": {},
   "outputs": [
    {
     "data": {
      "text/plain": [
       "21"
      ]
     },
     "execution_count": 59,
     "metadata": {},
     "output_type": "execute_result"
    }
   ],
   "source": [
    "class Node:\n",
    "    def __init__(self,val):\n",
    "        self.val = val\n",
    "        self.left = None\n",
    "        self.right = None\n",
    "        \n",
    "a = Node(1)\n",
    "b = Node(2)\n",
    "c = Node(3)\n",
    "d = Node(4)\n",
    "e = Node(5)\n",
    "f = Node(6)\n",
    "\n",
    "a.left = b\n",
    "a.right = c\n",
    "b.left = d\n",
    "b.right = e\n",
    "c.right = f\n",
    "\n",
    "\n",
    "def treeSum(root):\n",
    "    if root == None: \n",
    "        return 0\n",
    "    return root.val + treeSum(root.left) + treeSum(root.right)\n",
    "    \n",
    "treeSum(a)   "
   ]
  },
  {
   "cell_type": "code",
   "execution_count": 66,
   "id": "f4358a33-d55b-4d2e-8e36-d62d6bdd1bd7",
   "metadata": {},
   "outputs": [
    {
     "data": {
      "text/plain": [
       "21"
      ]
     },
     "execution_count": 66,
     "metadata": {},
     "output_type": "execute_result"
    }
   ],
   "source": [
    "class Node:\n",
    "    def __init__(self,val):\n",
    "        self.val = val\n",
    "        self.left = None\n",
    "        self.right = None\n",
    "        \n",
    "a = Node(1)\n",
    "b = Node(2)\n",
    "c = Node(3)\n",
    "d = Node(4)\n",
    "e = Node(5)\n",
    "f = Node(6)\n",
    "\n",
    "a.left = b\n",
    "a.right = c\n",
    "b.left = d\n",
    "b.right = e\n",
    "c.right = f\n",
    "\n",
    "def treeSum(root):\n",
    "    if root == None:\n",
    "        return 0\n",
    "    que = [root]\n",
    "    totalSum = 0\n",
    "\n",
    "    while len(que)>0 :\n",
    "        curr = que.pop()\n",
    "        totalSum += curr.val\n",
    "        if curr.left : que.insert(0,curr.left)\n",
    "        if curr.right :que.insert(0,curr.right)\n",
    "\n",
    "    return totalSum\n",
    "\n",
    "treeSum(a)"
   ]
  },
  {
   "cell_type": "code",
   "execution_count": 74,
   "id": "c461bb85-56d1-45fe-a89c-65d939f331aa",
   "metadata": {},
   "outputs": [
    {
     "data": {
      "text/plain": [
       "-11"
      ]
     },
     "execution_count": 74,
     "metadata": {},
     "output_type": "execute_result"
    }
   ],
   "source": [
    "import math\n",
    "\n",
    "class Node:\n",
    "    def __init__(self,val):\n",
    "        self.val = val\n",
    "        self.left = None\n",
    "        self.right = None\n",
    "        \n",
    "a = Node(8)\n",
    "b = Node(2)\n",
    "c = Node(3)\n",
    "d = Node(-11)\n",
    "e = Node(5)\n",
    "f = Node(6)\n",
    "\n",
    "a.left = b\n",
    "a.right = c\n",
    "b.left = d\n",
    "b.right = e\n",
    "c.right = f\n",
    "\n",
    "def minVal(root):\n",
    "    if root == None:\n",
    "        return math.inf\n",
    "    return min(root.val, minVal(root.left), minVal(root.right))\n",
    "\n",
    "minVal(a)"
   ]
  },
  {
   "cell_type": "code",
   "execution_count": 78,
   "id": "b5303704-a49a-4b61-bfde-c5e865db63e3",
   "metadata": {},
   "outputs": [
    {
     "data": {
      "text/plain": [
       "-11"
      ]
     },
     "execution_count": 78,
     "metadata": {},
     "output_type": "execute_result"
    }
   ],
   "source": [
    "import math\n",
    "def minVal(root):\n",
    "    stack = [root]\n",
    "    smallest = math.inf\n",
    "    while stack:\n",
    "        curr = stack.pop()\n",
    "        if curr.val < smallest: smallest = curr.val \n",
    "        if curr.left : stack.append(curr.left)\n",
    "        if curr.right : stack.append(curr.right)\n",
    "    return smallest\n",
    "    \n",
    "minVal(a)"
   ]
  },
  {
   "cell_type": "code",
   "execution_count": 80,
   "id": "5a292f99-1f4c-4c8c-bb9b-c476a29ee4bb",
   "metadata": {},
   "outputs": [
    {
     "data": {
      "text/plain": [
       "-11"
      ]
     },
     "execution_count": 80,
     "metadata": {},
     "output_type": "execute_result"
    }
   ],
   "source": [
    "import math\n",
    "def minVal(root):\n",
    "    queue = [root]\n",
    "    smallest = math.inf\n",
    "    while queue:\n",
    "        curr = queue.pop()\n",
    "        if curr.val < smallest: smallest = curr.val \n",
    "        if curr.left : queue.insert(0,curr.left)\n",
    "        if curr.right : queue.insert(0,curr.right)\n",
    "    return smallest\n",
    "    \n",
    "minVal(a)"
   ]
  },
  {
   "cell_type": "code",
   "execution_count": 90,
   "id": "c89d5003-5585-43d9-97e2-135cf023347e",
   "metadata": {},
   "outputs": [
    {
     "data": {
      "text/plain": [
       "20"
      ]
     },
     "execution_count": 90,
     "metadata": {},
     "output_type": "execute_result"
    }
   ],
   "source": [
    "import math\n",
    "\n",
    "class Node:\n",
    "    def __init__(self,val):\n",
    "        self.val = val\n",
    "        self.left = None\n",
    "        self.right = None\n",
    "        \n",
    "a = Node(5)\n",
    "b = Node(11)\n",
    "c = Node(3)\n",
    "d = Node(4)\n",
    "e = Node(2)\n",
    "f = Node(1)\n",
    "\n",
    "a.left = b\n",
    "a.right = c\n",
    "b.left = d\n",
    "b.right = e\n",
    "c.right = f\n",
    "\n",
    "def maxPathSum(root): \n",
    "    if root == None:\n",
    "        return -math.inf\n",
    "    if root.left == None and root.right == None:\n",
    "        return root.val\n",
    "    \n",
    "        \n",
    "    return root.val + max(maxPathSum(root.left),maxPathSum(root.right))\n",
    "\n",
    "maxPathSum(a)"
   ]
  }
 ],
 "metadata": {
  "kernelspec": {
   "display_name": "Python 3 (ipykernel)",
   "language": "python",
   "name": "python3"
  },
  "language_info": {
   "codemirror_mode": {
    "name": "ipython",
    "version": 3
   },
   "file_extension": ".py",
   "mimetype": "text/x-python",
   "name": "python",
   "nbconvert_exporter": "python",
   "pygments_lexer": "ipython3",
   "version": "3.12.2"
  }
 },
 "nbformat": 4,
 "nbformat_minor": 5
}
