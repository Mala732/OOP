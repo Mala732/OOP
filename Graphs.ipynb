{
 "cells": [
  {
   "cell_type": "markdown",
   "id": "ef514576-2777-4fa9-9ca3-48205b918ea3",
   "metadata": {},
   "source": [
    "graphs are a collections of nodes and edges\n",
    "\n",
    "nodes are the cities and edges are the roads connecting the cities\n",
    "\n",
    "two tyoes of graphs:\n",
    "directed \n",
    "undirected\n",
    "\n",
    "a-----> c\n",
    "|       |\n",
    "|       |\n",
    "b<------e\n",
    "|\n",
    "|\n",
    "d<------f\n",
    "\n",
    "the relationships between nodes are mapped in adjacency lists(dictionarie sin python)\n",
    "{\n",
    "a : [b,c],\n",
    "b : [d],\n",
    "c : [e],\n",
    "d : [],\n",
    "e : [b],\n",
    "f : [d]\n",
    "}"
   ]
  },
  {
   "cell_type": "code",
   "execution_count": 3,
   "id": "eac75ffc-7142-4d71-a7cf-a81078cc9105",
   "metadata": {},
   "outputs": [
    {
     "name": "stdout",
     "output_type": "stream",
     "text": [
      "a\n",
      "b\n",
      "d\n",
      "f\n",
      "c\n",
      "e\n"
     ]
    }
   ],
   "source": [
    "#Depth First Traversal\n",
    "def depthFirstPrint(graph,source):\n",
    "    stack = [source]\n",
    "    while stack:\n",
    "        cur = stack.pop()\n",
    "        print(cur)\n",
    "        for neighbour in graph[cur]:\n",
    "            stack.append(neighbour)\n",
    "\n",
    "    \n",
    "    \n",
    "graph = {\n",
    "    'a': ['c','b'],\n",
    "    'b': ['d'],\n",
    "    'c': ['e'],\n",
    "    'd': ['f'],\n",
    "    'e': [],\n",
    "    'f': []\n",
    "}\n",
    "\n",
    "depthFirstPrint(graph,'a')\n"
   ]
  },
  {
   "cell_type": "code",
   "execution_count": 11,
   "id": "7457d019-97b5-4f26-9b73-d42733806899",
   "metadata": {},
   "outputs": [
    {
     "name": "stdout",
     "output_type": "stream",
     "text": [
      "a\n",
      "b\n",
      "d\n",
      "f\n",
      "c\n",
      "e\n"
     ]
    }
   ],
   "source": [
    "def depthFirstPrint(graph,source):\n",
    "    print(source)\n",
    "    for neighbour in graph[source]:\n",
    "        depthFirstPrint(graph,neighbour)\n",
    "\n",
    "\n",
    "graph = {\n",
    "    'a': ['b','c'],\n",
    "    'b': ['d'],\n",
    "    'c': ['e'],\n",
    "    'd': ['f'],\n",
    "    'e': [],\n",
    "    'f': []\n",
    "}\n",
    "\n",
    "depthFirstPrint(graph,'a')\n"
   ]
  },
  {
   "cell_type": "code",
   "execution_count": 12,
   "id": "c769e449-8cab-49dc-a4cc-bf1532284fdb",
   "metadata": {},
   "outputs": [
    {
     "name": "stdout",
     "output_type": "stream",
     "text": [
      "a\n",
      "b\n",
      "c\n",
      "d\n",
      "e\n",
      "f\n"
     ]
    }
   ],
   "source": [
    "#breadthFirstTraversal\n",
    "\n",
    "from collections import deque\n",
    "\n",
    "def breadthFirstPrint(graph,source):\n",
    "    queue = deque([source])\n",
    "    while queue:\n",
    "        cur = queue.pop()\n",
    "        print(cur)\n",
    "        for neighbour in graph[cur]:\n",
    "            queue.appendleft(neighbour)\n",
    "            \n",
    "\n",
    "\n",
    "graph = {\n",
    "    'a': ['b','c'],\n",
    "    'b': ['d'],\n",
    "    'c': ['e'],\n",
    "    'd': ['f'],\n",
    "    'e': [],\n",
    "    'f': []\n",
    "}\n",
    "\n",
    "breadthFirstPrint(graph,'a')\n"
   ]
  },
  {
   "cell_type": "markdown",
   "id": "c43d41a1-9061-482e-8da0-32b99e796b3a",
   "metadata": {},
   "source": [
    "Write a function, hasPath, that takes in an object representing the adjacency list of a directed acyclic graph and two nodes (src, dst). The function should return a boolean indicating whether or not there exists a directed path between the source and destination nodes.\n",
    "\n",
    "const graph = {\r\n",
    "  f: ['g', 'i'],\r\n",
    "  g: ['h'],\r\n",
    "  h: [],\r\n",
    "  i: ['g', 'k'],\r\n",
    "  j: ['i'],\r\n",
    "  k: []\r\n",
    "};\r\n",
    "\r\n",
    "hasPath(graph, 'f', 'k');\n",
    "\n",
    "const graph = {\r\n",
    "  f: ['g', 'i'],\r\n",
    "  g: ['h'],\r\n",
    "  h: [],\r\n",
    "  i: ['g', 'k'],\r\n",
    "  j: ['i'],\r\n",
    "  k: []\r\n",
    "};\r\n",
    "\r\n",
    "hasPath(graph, 'f', 'j'); \n",
    "const graph = {\r\n",
    "  f: ['g', 'i'],\r\n",
    "  g: ['h'],\r\n",
    "  h: [],\r\n",
    "  i: ['g', 'k'],\r\n",
    "  j: ['i'],\r\n",
    "  k: []\r\n",
    "};\r\n",
    "\r\n",
    "hasPath(graph, 'i', 'h');\n",
    "\n",
    "const graph = {\r\n",
    "  v: ['x', 'w'],\r\n",
    "  w: [],\r\n",
    "  x: [],\r\n",
    "  y: ['z'],\r\n",
    "  z: [],  \r\n",
    "};\r\n",
    "\r\n",
    "hasPath(graph, 'v', 'w'); \n",
    "const graph = {\r\n",
    "  v: ['x', 'w'],\r\n",
    "  w: [],\r\n",
    "  x: [],\r\n",
    "  y: ['z'],\r\n",
    "  z: [],  \r\n",
    "};\r\n",
    "\r\n",
    "hasPath(graph, 'v', 'z'); // false\r\n",
    "// true\r\n",
    " // true\r\n",
    "// false\r\n",
    " // true\r\n"
   ]
  },
  {
   "cell_type": "code",
   "execution_count": 16,
   "id": "6f73408e-caaf-4f33-a9c0-a0f038443678",
   "metadata": {},
   "outputs": [
    {
     "data": {
      "text/plain": [
       "False"
      ]
     },
     "execution_count": 16,
     "metadata": {},
     "output_type": "execute_result"
    }
   ],
   "source": [
    "#depth first solution\n",
    "\n",
    "def hasPath(graph, src, dst):\n",
    "    if (src == dst):\n",
    "        return True\n",
    "    for neighbour in graph[src]:\n",
    "        if hasPath(graph,neighbour,dst) == True:\n",
    "            return True\n",
    "    return False\n",
    "\n",
    "f = 'f'\n",
    "g = 'g'\n",
    "h = 'h'\n",
    "i = 'i'\n",
    "j = 'j'\n",
    "k = 'k'\n",
    "graph = {\n",
    "  f: ['g', 'i'],\n",
    "  g: ['h'],\n",
    "  h: [],\n",
    "  i: ['g', 'k'],\n",
    "  j: ['i'],\n",
    "  k: []\n",
    "}\n",
    "\n",
    "hasPath(graph, 'f', 'j')"
   ]
  },
  {
   "cell_type": "code",
   "execution_count": 17,
   "id": "8084b128-0216-45a8-b034-f826de1cf93f",
   "metadata": {},
   "outputs": [
    {
     "data": {
      "text/plain": [
       "False"
      ]
     },
     "execution_count": 17,
     "metadata": {},
     "output_type": "execute_result"
    }
   ],
   "source": [
    "#breadth first solution\n",
    "from collections import deque\n",
    "\n",
    "def hasPath(graph, src, dst):\n",
    "    que = deque([src])\n",
    "    while que:\n",
    "        cur = que.pop()\n",
    "        if cur == dst: return True\n",
    "        for neighbour in graph[cur]:\n",
    "            que.appendleft(neighbour)\n",
    "    return False\n",
    "\n",
    "f = 'f'\n",
    "g = 'g'\n",
    "h = 'h'\n",
    "i = 'i'\n",
    "j = 'j'\n",
    "k = 'k'\n",
    "graph = {\n",
    "  f: ['g', 'i'],\n",
    "  g: ['h'],\n",
    "  h: [],\n",
    "  i: ['g', 'k'],\n",
    "  j: ['i'],\n",
    "  k: []\n",
    "}\n",
    "\n",
    "hasPath(graph, 'f', 'j')"
   ]
  },
  {
   "cell_type": "markdown",
   "id": "eedf46f3-baf2-43a1-a891-e363d67b3125",
   "metadata": {},
   "source": [
    "Write a function, undirectedPath, that takes in an array of edges for an undirected graph and two nodes (nodeA, nodeB). The function should return a boolean indicating whether or not there exists a path between nodeA and nodeB.\n",
    "\n",
    "const edges = [\r\n",
    "  ['i', 'j'],\r\n",
    "  ['k', 'i'],\r\n",
    "  ['m', 'k'],\r\n",
    "  ['k', 'l'],\r\n",
    "  ['o', 'n']\r\n",
    "];\r\n",
    "\r\n",
    "undirectedPath(edges, 'j', 'm'); // \n",
    "\n",
    "Solution\n",
    "Part 1:\n",
    "1. convert the edge list to an adjacency list( this could be a helper function)\n",
    "2. traverse through the adjacency list and check if a path exists from src in the adjacency list to the required destination\n",
    "\n",
    "!! make sure the adjacency list has a the direct and inverse path between the nodes\n",
    "\n",
    "!! cycles can exist, thus make a _set_  \"visited\" which keeps track of the visited nodes ... using sets instead of arrays is more efficient because you can add and remove elements to and from a set with time complexity O(1) where as in an array the worst case complexity is O(N)-> true\r\n"
   ]
  },
  {
   "cell_type": "code",
   "execution_count": 26,
   "id": "43485182-f3c6-46a4-9e6c-c7a9b2159c2a",
   "metadata": {},
   "outputs": [
    {
     "data": {
      "text/plain": [
       "True"
      ]
     },
     "execution_count": 26,
     "metadata": {},
     "output_type": "execute_result"
    }
   ],
   "source": [
    "def undirectedPath(edges,src,dst):\n",
    "    graph = buildPath(edges)\n",
    "    return hasPath(graph,src,dst)\n",
    "    \n",
    "def hasPath(graph,src,dst,visited = set()):\n",
    "    if (src == dst): return True\n",
    "    if src in visited: return False\n",
    "    visited.add(src)\n",
    "    for neighbour in graph[src]:\n",
    "        if hasPath(graph, neighbour, dst, visited) == True : return True\n",
    "\n",
    "    return False\n",
    "\n",
    "def buildPath(edges):\n",
    "    graph = {}\n",
    "    for edge in edges:\n",
    "        (a,b) = edge\n",
    "        if a not in graph: graph[a] = []\n",
    "        if b not in graph: graph[b] = []\n",
    "        graph[a].append(b)\n",
    "        graph[b].append(a)\n",
    "\n",
    "    return graph     \n",
    "\n",
    "edges = [\n",
    "  ['b', 'a'],\n",
    "  ['c', 'a'],\n",
    "  ['b', 'c'],\n",
    "  ['q', 'r'],\n",
    "  ['q', 's'],\n",
    "  ['q', 'u'],\n",
    "  ['q', 't'],\n",
    "]\n",
    "\n",
    "undirectedPath(edges, 'a', 'b')"
   ]
  },
  {
   "cell_type": "markdown",
   "id": "60d2af4e-1078-441d-83c1-da9fdeedaff1",
   "metadata": {},
   "source": [
    "Write a function, connectedComponentsCount, that takes in the adjacency list of an undirected graph. The function should return the number of connected components within the graph.\n",
    "\n",
    "connectedComponentsCount({\n",
    "  0: [8, 1, 5],\n",
    "  1: [0],\n",
    "  5: [0, 8],\n",
    "  8: [0, 5],\n",
    "  2: [3, 4],\n",
    "  3: [2, 4],\n",
    "  4: [3, 2]\n",
    "}); // -> 2\n",
    "\n",
    "Approach:\n",
    "Iterate through all the connected nodes of a paticular node in a graph. !! make sure to store the visited node to a set so as to avoid unnecessary traversals and cyclic traversals\n",
    "\n",
    "incremented the count once you have explored all the connected paths of the node\n",
    "return count"
   ]
  },
  {
   "cell_type": "code",
   "execution_count": 29,
   "id": "6ef27d80-2bbf-4c61-bebf-16dc1102c3a3",
   "metadata": {},
   "outputs": [
    {
     "data": {
      "text/plain": [
       "2"
      ]
     },
     "execution_count": 29,
     "metadata": {},
     "output_type": "execute_result"
    }
   ],
   "source": [
    "def connectedComponentsCount(graph):\n",
    "    count = 0\n",
    "    visited = set()\n",
    "    for node in graph:\n",
    "        if explore(graph,node,visited) == True: count+= 1\n",
    "    return count\n",
    "\n",
    "def explore(graph,node,visited):\n",
    "    if node in visited: return False\n",
    "    visited.add(node)\n",
    "    for neighbour in graph[node]:\n",
    "        explore(graph,neighbour,visited)\n",
    "    return True\n",
    "    \n",
    "\n",
    "connectedComponentsCount({\n",
    "  0: [8, 1, 5],\n",
    "  1: [0],\n",
    "  5: [0, 8],\n",
    "  8: [0, 5],\n",
    "  2: [3, 4],\n",
    "  3: [2, 4],\n",
    "  4: [3, 2]\n",
    "})"
   ]
  },
  {
   "cell_type": "markdown",
   "id": "ca0d61dc-ca35-4a7d-8881-803cd4efc781",
   "metadata": {},
   "source": [
    "Write a function, largestComponent, that takes in the adjacency list of an undirected graph. The function should return the size of the largest connected component in the graph.\n",
    "largestComponent({\r\n",
    "  0: ['8', '1', '5'],\r\n",
    "  1: ['0'],\r\n",
    "  5: ['0', '8'],\r\n",
    "  8: ['0', '5'],\r\n",
    "  2: ['3', '4'],\r\n",
    "  3: ['2', '4'],\r\n",
    "  4: ['3', '2']\r\n",
    "}); // -> 4\r\n"
   ]
  },
  {
   "cell_type": "code",
   "execution_count": 49,
   "id": "30a5f7ef-7e65-4418-95e0-e77be96bd004",
   "metadata": {},
   "outputs": [
    {
     "data": {
      "text/plain": [
       "6"
      ]
     },
     "execution_count": 49,
     "metadata": {},
     "output_type": "execute_result"
    }
   ],
   "source": [
    "import math\n",
    "def largestComponent(graph):\n",
    "    maxlen = -math.inf\n",
    "    visited = set()\n",
    "    for node in graph:\n",
    "        maxlen = max(maxlen,exploreSize(graph,node,visited))\n",
    "    return maxlen\n",
    "\n",
    "def exploreSize(graph,node,visited):\n",
    "    if node in visited: return 0\n",
    "    visited.add(node)\n",
    "    count = 1\n",
    "    #print(visited,count)\n",
    "    for neighbour in graph[node]:\n",
    "        count += exploreSize(graph,int(neighbour),visited)\n",
    "    return count\n",
    "    \n",
    "largestComponent({\n",
    "  1: ['2'],\n",
    "  2: ['1','8'],\n",
    "  6: ['7'],\n",
    "  9: ['8'],\n",
    "  7: ['6', '8'],\n",
    "  8: ['9', '7', '2']\n",
    "})\n"
   ]
  },
  {
   "cell_type": "markdown",
   "id": "40077208-7a92-4dde-9458-dd99d0674206",
   "metadata": {},
   "source": [
    "Write a function, shortest_path, that takes in a list of edges for an undirected graph and two nodes (node_A, node_B). The function should return the length of the shortest path between A and B. Consider the length as the number of edges in the path, not the number of nodes. If there is no path between A and B, then return -1. You can assume that A and B exist as nodes in the graph.\n",
    "\n",
    "edges = [\n",
    "  ['w', 'x'],\n",
    "  ['x', 'y'],\n",
    "  ['z', 'y'],\n",
    "  ['z', 'v'],\n",
    "  ['w', 'v']\n",
    "]\n",
    "\n",
    "shortest_path(edges, 'w', 'z') # -> 2"
   ]
  },
  {
   "cell_type": "code",
   "execution_count": 61,
   "id": "4e96c58d-2d84-4773-8f97-09e498ea16ae",
   "metadata": {},
   "outputs": [
    {
     "name": "stdout",
     "output_type": "stream",
     "text": [
      "-1\n"
     ]
    }
   ],
   "source": [
    "from collections import deque\n",
    "\n",
    "def shortest_path(edges,src,dst):\n",
    "    graph = buildPath(edges)\n",
    "    visited = set(src)\n",
    "    que = deque([(src,0)])\n",
    "\n",
    "    while que:\n",
    "        cur,count = que.pop()\n",
    "        if cur == dst:\n",
    "            return count\n",
    "        for neighbour in graph[cur]:\n",
    "            if neighbour not in visited:\n",
    "                visited.add(neighbour)\n",
    "                que.appendleft((neighbour,count + 1))\n",
    "    return -1\n",
    "\n",
    "        \n",
    "edges = [\n",
    "  ['a', 'c'],\n",
    "  ['a', 'b'],\n",
    "  ['c', 'b'],\n",
    "  ['c', 'd'],\n",
    "  ['b', 'd'],\n",
    "  ['e', 'd'],\n",
    "  ['g', 'f']\n",
    "]\n",
    "\n",
    "print(shortest_path(edges, 'b', 'g'))# -> -1"
   ]
  },
  {
   "cell_type": "markdown",
   "id": "a4e7f2e9-7462-417c-b08d-f5655ed29d2b",
   "metadata": {},
   "source": [
    "Write a function, island_count, that takes in a grid containing Ws and Ls. W represents water and L represents land. The function should return the number of islands on the grid. An island is a vertically or horizontally connected region of land.\n",
    "\n",
    "grid = [\r\n",
    "  ['W', 'L', 'W', 'W', 'W'],\r\n",
    "  ['W', 'L', 'W', 'W', 'W'],\r\n",
    "  ['W', 'W', 'W', 'L', 'W'],\r\n",
    "  ['W', 'W', 'L', 'L', 'W'],\r\n",
    "  ['L', 'W', 'W', 'L', 'L'],\r\n",
    "  ['L', 'L', 'W', 'W', 'W'],\r\n",
    "]\r\n",
    "\r\n",
    "island_count(grid) # -> 3\r\n"
   ]
  },
  {
   "cell_type": "code",
   "execution_count": 62,
   "id": "1515ee6b-03dd-4f9e-af07-1da7891772fe",
   "metadata": {},
   "outputs": [
    {
     "data": {
      "text/plain": [
       "3"
      ]
     },
     "execution_count": 62,
     "metadata": {},
     "output_type": "execute_result"
    }
   ],
   "source": [
    "def island_count(grid):\n",
    "  visited = set()\n",
    "  count = 0\n",
    "  for r in range(len(grid)):\n",
    "    for c in range(len(grid[0])):\n",
    "      if explore(grid, r, c, visited) == True:\n",
    "        count += 1\n",
    "  return count\n",
    "\n",
    "def explore(grid, r, c, visited):\n",
    "  row_inbounds = 0 <= r < len(grid)\n",
    "  col_inbounds = 0 <= c < len(grid[0])\n",
    "  if not row_inbounds or not col_inbounds:\n",
    "    return False\n",
    "  \n",
    "  if grid[r][c] == 'W':\n",
    "    return False\n",
    "  \n",
    "  pos = (r, c)\n",
    "  if pos in visited:\n",
    "    return False\n",
    "  visited.add(pos)\n",
    "  \n",
    "  explore(grid, r - 1, c, visited)\n",
    "  explore(grid, r + 1, c, visited)  \n",
    "  explore(grid, r, c - 1, visited)\n",
    "  explore(grid, r, c + 1, visited)\n",
    "  \n",
    "  return True\n",
    "\n",
    "\n",
    "grid = [\n",
    "  ['W', 'L', 'W', 'W', 'W'],\n",
    "  ['W', 'L', 'W', 'W', 'W'],\n",
    "  ['W', 'W', 'W', 'L', 'W'],\n",
    "  ['W', 'W', 'L', 'L', 'W'],\n",
    "  ['L', 'W', 'W', 'L', 'L'],\n",
    "  ['L', 'L', 'W', 'W', 'W'],\n",
    "]\n",
    "\n",
    "island_count(grid)"
   ]
  },
  {
   "cell_type": "markdown",
   "id": "a5afc68c-d5e7-4580-bca9-866a61d14a0f",
   "metadata": {},
   "source": [
    "Write a function, minimum_island, that takes in a grid containing Ws and Ls. W represents water and L represents land. The function should return the size of the smallest island. An island is a vertically or horizontally connected region of land.\r\n",
    "\r\n",
    "You may assume that the grid contains at least one islan\n",
    "\n",
    "grid = [\r\n",
    "  ['W', 'L', 'W', 'W', 'W'],\r\n",
    "  ['W', 'L', 'W', 'W', 'W'],\r\n",
    "  ['W', 'W', 'W', 'L', 'W'],\r\n",
    "  ['W', 'W', 'L', 'L', 'W'],\r\n",
    "  ['L', 'W', 'W', 'L', 'L'],\r\n",
    "  ['L', 'L', 'W', 'W', 'W'],\r\n",
    "]\r\n",
    "\r\n",
    "minimum_island(grid) # -> 2\r\n",
    "d."
   ]
  },
  {
   "cell_type": "code",
   "execution_count": null,
   "id": "89005962-b7ca-4be1-b245-75b89d63af7a",
   "metadata": {},
   "outputs": [],
   "source": [
    "def minimum_island(grid):\n",
    "  visited = set()\n",
    "  min_size = float(\"inf\")\n",
    "  for r in range(len(grid)):\n",
    "    for c in range(len(grid[0])):\n",
    "      size = explore_size(grid, r, c, visited)\n",
    "      if size > 0 and size < min_size:\n",
    "        min_size = size\n",
    "  return min_size\n",
    "\n",
    "def explore_size(grid, r, c, visited):\n",
    "  row_inbounds = 0 <= r < len(grid)\n",
    "  col_inbounds = 0 <= c < len(grid[0])\n",
    "  if not row_inbounds or not col_inbounds:\n",
    "    return 0\n",
    "  \n",
    "  if grid[r][c] == 'W':\n",
    "    return 0\n",
    "  \n",
    "  pos = (r, c)\n",
    "  if pos in visited:\n",
    "    return 0\n",
    "  visited.add(pos)\n",
    "  \n",
    "  size = 1\n",
    "  size += explore_size(grid, r - 1, c, visited)\n",
    "  size += explore_size(grid, r + 1, c, visited)  \n",
    "  size += explore_size(grid, r, c - 1, visited)\n",
    "  size += explore_size(grid, r, c + 1, visited)\n",
    "  return size\n"
   ]
  }
 ],
 "metadata": {
  "kernelspec": {
   "display_name": "Python 3 (ipykernel)",
   "language": "python",
   "name": "python3"
  },
  "language_info": {
   "codemirror_mode": {
    "name": "ipython",
    "version": 3
   },
   "file_extension": ".py",
   "mimetype": "text/x-python",
   "name": "python",
   "nbconvert_exporter": "python",
   "pygments_lexer": "ipython3",
   "version": "3.12.2"
  }
 },
 "nbformat": 4,
 "nbformat_minor": 5
}
